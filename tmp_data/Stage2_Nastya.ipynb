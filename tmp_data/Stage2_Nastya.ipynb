{
 "cells": [
  {
   "cell_type": "markdown",
   "metadata": {},
   "source": [
    "# Preprocessing NaN values\n",
    "### for the 7 last columns\n",
    "    17  Можно с детьми/животными  17272 non-null  object\n",
    "        Create columns: \"pets_okay\" (and fill NA), \"kids_okay\" (and fill NA)\n",
    "    18  Дополнительно             23011 non-null  object\n",
    "        Create columns for potentially impactful factors: Мебель в комнатах (and count, then fill NA if needed or drop the column), Кондиционер (likewise), Посудомоечная машина (likewise)\n",
    "    15  Окна                      16755 non-null  object\n",
    "        Values: categorical, [На улицу и двор' 'Во двор' 'На улицу']. Create \"only_street_view\"\n",
    "    16  Санузел                   20696 non-null  object\n",
    "        Values: need to make them numerical and categorical (\"total_bathrooms\", \"only_one\"), then fill NaN.\n",
    "    22  Лифт                      17868 non-null  object\n",
    "        Create columns: \"has_elevator\", \"has_cargo_elevator\"\n",
    "    21  Высота потолков, м        11206 non-null  float64\n",
    "        Remove outliers, transform into meters, fill NaN, consider creating categorical (low, medium, high)\n",
    "    23  Мусоропровод              12846 non-null  object\n",
    "        Fill NA."
   ]
  },
  {
   "cell_type": "code",
   "execution_count": 1,
   "metadata": {},
   "outputs": [],
   "source": [
    "import pandas as pd\n",
    "\n",
    "import numpy as np\n",
    "from numpy import mean\n",
    "from numpy import std\n",
    "from numpy import ravel\n",
    "\n",
    "import seaborn as sns\n",
    "import matplotlib.pyplot as plt\n",
    "\n",
    "import scipy\n",
    "import joblib\n",
    "import re\n",
    "import glob\n",
    "import sklearn\n",
    "from math import sqrt\n",
    "from decimal import Decimal\n",
    "\n",
    "from sklearn.preprocessing import StandardScaler\n",
    "from sklearn.model_selection import train_test_split\n",
    "\n",
    "from sklearn.model_selection import cross_val_score\n",
    "\n",
    "from sklearn.model_selection import GridSearchCV\n",
    "\n",
    "from sklearn.metrics import make_scorer\n",
    "from sklearn.metrics import mean_squared_error\n",
    "# from sklearn.metrics import mean_absolute_percentage_error\n",
    "\n",
    "\n",
    "from geopy.exc import GeocoderTimedOut\n",
    "from geopy.distance import geodesic\n",
    "from geopy.geocoders import Nominatim\n",
    "\n",
    "from tqdm import tqdm\n",
    "\n",
    "# !pip install CurrencyConverter\n",
    "from currency_converter import CurrencyConverter"
   ]
  },
  {
   "cell_type": "code",
   "execution_count": 2,
   "metadata": {},
   "outputs": [],
   "source": [
    "df = pd.read_csv('../data/_data.csv')"
   ]
  },
  {
   "cell_type": "markdown",
   "metadata": {},
   "source": [
    "## Column \"Можно с детьми/животными\""
   ]
  },
  {
   "cell_type": "markdown",
   "metadata": {},
   "source": [
    "####  New column \"Можно с животными\""
   ]
  },
  {
   "cell_type": "code",
   "execution_count": 3,
   "metadata": {},
   "outputs": [
    {
     "name": "stdout",
     "output_type": "stream",
     "text": [
      "0        1.0\n",
      "1        0.0\n",
      "2        0.0\n",
      "3        1.0\n",
      "4        0.0\n",
      "        ... \n",
      "23363    0.0\n",
      "23364    0.0\n",
      "23365    0.0\n",
      "23366    0.0\n",
      "23367    1.0\n",
      "Name: pets_okay, Length: 23368, dtype: float64\n"
     ]
    }
   ],
   "source": [
    "df['pets_okay'] = df['Можно с детьми/животными'].apply(lambda x: 1 if isinstance(x, str) and 'Можно с животными' in x else (0 if isinstance(x, str) else np.nan))\n",
    "mode_pets_okay = df['pets_okay'].mode()[0]\n",
    "df['pets_okay'].fillna(mode_pets_okay, inplace=True)\n",
    "print(df['pets_okay'])"
   ]
  },
  {
   "cell_type": "code",
   "execution_count": 4,
   "metadata": {},
   "outputs": [
    {
     "name": "stdout",
     "output_type": "stream",
     "text": [
      "Percentage of each value in 'pets_okay':\n",
      "pets_okay\n",
      "0.0    69.453954\n",
      "1.0    30.546046\n",
      "Name: proportion, dtype: float64\n"
     ]
    }
   ],
   "source": [
    "percent_counts = df['pets_okay'].value_counts(normalize=True) * 100\n",
    "\n",
    "# Print the percentage counts\n",
    "print(\"Percentage of each value in 'pets_okay':\")\n",
    "print(percent_counts)"
   ]
  },
  {
   "cell_type": "code",
   "execution_count": null,
   "metadata": {},
   "outputs": [],
   "source": []
  },
  {
   "cell_type": "markdown",
   "metadata": {},
   "source": [
    "####  New column \"Можно с детьми\""
   ]
  },
  {
   "cell_type": "code",
   "execution_count": 5,
   "metadata": {},
   "outputs": [
    {
     "name": "stdout",
     "output_type": "stream",
     "text": [
      "0        1.0\n",
      "1        1.0\n",
      "2        1.0\n",
      "3        0.0\n",
      "4        1.0\n",
      "        ... \n",
      "23363    1.0\n",
      "23364    1.0\n",
      "23365    1.0\n",
      "23366    1.0\n",
      "23367    1.0\n",
      "Name: kids_okay, Length: 23368, dtype: float64\n"
     ]
    }
   ],
   "source": [
    "df['kids_okay'] = df['Можно с детьми/животными'].apply(lambda x: 1 if isinstance(x, str) and 'Можно с детьми' in x else (0 if isinstance(x, str) else np.nan))\n",
    "mode_kids_okay = df['kids_okay'].mode()[0] # 🚧\n",
    "df['kids_okay'].fillna(mode_kids_okay, inplace=True)\n",
    "print(df['kids_okay'])"
   ]
  },
  {
   "cell_type": "code",
   "execution_count": 6,
   "metadata": {},
   "outputs": [
    {
     "name": "stdout",
     "output_type": "stream",
     "text": [
      "Percentage of each value in 'kids_okay':\n",
      "kids_okay\n",
      "1.0    98.977234\n",
      "0.0     1.022766\n",
      "Name: proportion, dtype: float64\n"
     ]
    }
   ],
   "source": [
    "percent_counts = df['kids_okay'].value_counts(normalize=True) * 100\n",
    "\n",
    "# Print the percentage counts\n",
    "print(\"Percentage of each value in 'kids_okay':\")\n",
    "print(percent_counts)"
   ]
  },
  {
   "cell_type": "markdown",
   "metadata": {},
   "source": [
    "## Column \"Дополнительно\"\n",
    "#### Create columns for potentially impactful factors: Мебель в комнатах (and count, then fill NA if needed or drop the column), Кондиционер (likewise), Посудомоечная машина (likewise)"
   ]
  },
  {
   "cell_type": "code",
   "execution_count": 7,
   "metadata": {},
   "outputs": [],
   "source": [
    "def create_column(df, new_col_name, phrase):\n",
    "    df[new_col_name] = df['Дополнительно'].apply(\n",
    "        lambda x: 1 if isinstance(x, str) and phrase in x else (0 if isinstance(x, str) else np.nan)\n",
    "    )\n",
    "    # Fill NaN values with the mode\n",
    "    mode_value = df[new_col_name].mode()[0]\n",
    "    df[new_col_name].fillna(mode_value, inplace=True)\n",
    "    return df\n",
    "\n",
    "# Create new columns\n",
    "df = create_column(df, 'furniture_in_the_room', 'Мебель в комнатах')\n",
    "df = create_column(df, 'air_conditioner', 'Кондиционер')\n",
    "df = create_column(df, 'dishwashing', 'Посудомоечная машина')\n",
    "df = create_column(df, 'fridge', 'Холодильник')\n",
    "df = create_column(df, 'internet', 'Интернет')"
   ]
  },
  {
   "cell_type": "code",
   "execution_count": 8,
   "metadata": {},
   "outputs": [
    {
     "name": "stdout",
     "output_type": "stream",
     "text": [
      "Percentage of each value in 'furniture_in_the_room':\n",
      "furniture_in_the_room\n",
      "1.0    92.643786\n",
      "0.0     7.356214\n",
      "Name: proportion, dtype: float64\n",
      "Percentage of each value in 'air_conditioner':\n",
      "air_conditioner\n",
      "0.0    62.358781\n",
      "1.0    37.641219\n",
      "Name: proportion, dtype: float64\n",
      "Percentage of each value in 'dishwashing':\n",
      "dishwashing\n",
      "0.0    66.48836\n",
      "1.0    33.51164\n",
      "Name: proportion, dtype: float64\n",
      "Percentage of each value in 'fridge':\n",
      "fridge\n",
      "1.0    88.124786\n",
      "0.0    11.875214\n",
      "Name: proportion, dtype: float64\n",
      "Percentage of each value in 'internet':\n",
      "internet\n",
      "1.0    80.498973\n",
      "0.0    19.501027\n",
      "Name: proportion, dtype: float64\n",
      "       furniture_in_the_room  air_conditioner  dishwashing  fridge  internet\n",
      "0                        1.0              1.0          1.0     1.0       1.0\n",
      "1                        1.0              1.0          1.0     1.0       1.0\n",
      "2                        1.0              1.0          1.0     1.0       1.0\n",
      "3                        1.0              1.0          1.0     1.0       1.0\n",
      "4                        1.0              0.0          1.0     1.0       1.0\n",
      "...                      ...              ...          ...     ...       ...\n",
      "23363                    1.0              1.0          0.0     1.0       1.0\n",
      "23364                    1.0              0.0          0.0     1.0       0.0\n",
      "23365                    0.0              1.0          0.0     1.0       1.0\n",
      "23366                    1.0              1.0          1.0     1.0       0.0\n",
      "23367                    1.0              1.0          1.0     1.0       1.0\n",
      "\n",
      "[23368 rows x 5 columns]\n"
     ]
    }
   ],
   "source": [
    "# Checking descriptive stats for each main feature\n",
    "def calculate_percentage(df, column_name):\n",
    "    percent_counts = df[column_name].value_counts(normalize=True) * 100\n",
    "    print(f\"Percentage of each value in '{column_name}':\")\n",
    "    print(percent_counts)\n",
    "\n",
    "calculate_percentage(df, 'furniture_in_the_room')\n",
    "calculate_percentage(df, 'air_conditioner')\n",
    "calculate_percentage(df, 'dishwashing')\n",
    "# Doing reality check - these columns should largely have 1 \n",
    "calculate_percentage(df, 'fridge')\n",
    "calculate_percentage(df, 'internet')\n",
    "\n",
    "\n",
    "print(df[['furniture_in_the_room', 'air_conditioner', 'dishwashing', 'fridge', 'internet']])\n"
   ]
  },
  {
   "cell_type": "code",
   "execution_count": null,
   "metadata": {},
   "outputs": [],
   "source": []
  },
  {
   "cell_type": "markdown",
   "metadata": {},
   "source": [
    "## Column \"Окна\"\n",
    "#### Create column only_street_view with supposedly negative impact\n"
   ]
  },
  {
   "cell_type": "code",
   "execution_count": 9,
   "metadata": {},
   "outputs": [
    {
     "name": "stdout",
     "output_type": "stream",
     "text": [
      "Percentage of each value in 'only_street_view':\n",
      "only_street_view\n",
      "0.0    74.815988\n",
      "1.0    25.184012\n",
      "Name: proportion, dtype: float64\n"
     ]
    }
   ],
   "source": [
    "df['only_street_view'] = df['Окна'].apply(\n",
    "    lambda x: 1 if isinstance(x, str) and 'На улицу' in x else (0 if isinstance(x, str) else np.nan)\n",
    ")\n",
    "mode_only_street_view = df['only_street_view'].mode()[0]\n",
    "df['only_street_view'].fillna(mode_only_street_view, inplace=True)\n",
    "percent_counts = df['only_street_view'].value_counts(normalize=True) * 100\n",
    "\n",
    "print(\"Percentage of each value in 'only_street_view':\")\n",
    "print(percent_counts)\n"
   ]
  },
  {
   "cell_type": "markdown",
   "metadata": {},
   "source": []
  },
  {
   "cell_type": "markdown",
   "metadata": {},
   "source": [
    "## Column \"Высота потолков\"\n",
    "#### Values: transform into meters, ❗️ Remove outliers, fill NaN, consider creating ❗️ categorical levels (low, medium, high)\n"
   ]
  },
  {
   "cell_type": "code",
   "execution_count": 10,
   "metadata": {},
   "outputs": [
    {
     "name": "stdout",
     "output_type": "stream",
     "text": [
      "263.0\n"
     ]
    }
   ],
   "source": [
    "# Function to convert meters to centimeters\n",
    "def convert_to_cm(value):\n",
    "    try:\n",
    "        value = float(value)\n",
    "        if value < 10:\n",
    "            return value * 100\n",
    "        return value\n",
    "    except ValueError:\n",
    "        return np.nan\n",
    "\n",
    "\n",
    "print(convert_to_cm(2.63))\n",
    "\n"
   ]
  },
  {
   "cell_type": "code",
   "execution_count": 11,
   "metadata": {},
   "outputs": [
    {
     "name": "stdout",
     "output_type": "stream",
     "text": [
      "12.8\n"
     ]
    }
   ],
   "source": [
    "# Apply the function to convert all values to centimeters\n",
    "df['ceiling'] = df['Высота потолков, м'].apply(convert_to_cm)\n",
    "\n",
    "print(min(df['ceiling']))"
   ]
  },
  {
   "cell_type": "code",
   "execution_count": 12,
   "metadata": {},
   "outputs": [
    {
     "name": "stdout",
     "output_type": "stream",
     "text": [
      "Unique values for 'ceiling' in descending order: [900.0, 600.0, 580.0, 550.0, 509.99999999999994, 500.0, 470.0, 459.99999999999994, 450.0, 420.0, 415.00000000000006, 409.99999999999994, 405.0, 400.0, 392.0, 390.0, 380.0, 370.0, 360.0, 356.0, 355.0, 350.0, 341.0, 340.0, 335.0, 330.0, 325.0, 324.0, 321.0, 320.0, 315.0, 311.0, 310.0, 308.0, 307.0, 305.0, 302.0, 300.0, 299.0, 297.0, 295.0, 294.0, 293.0, 290.0, 288.0, 287.0, 286.0, 285.0, 284.0, 281.0, 280.0, 278.0, 277.0, 276.0, 275.0, 274.0, 273.0, 272.0, 270.0, 268.0, 267.0, 266.0, 265.0, 264.0, 263.0, 262.0, 260.0, 258.0, 257.0, 256.0, 254.99999999999997, 254.0, 252.0, 250.99999999999997, 250.0, 248.0, 245.00000000000003, 243.00000000000003, 240.0, 229.99999999999997, 220.00000000000003, 210.0, 200.0, 120.0, 28.0, 27.0, 26.0, 25.0, 12.8]\n"
     ]
    }
   ],
   "source": [
    "# Проверка\n",
    "def show_unique_values(data, column_name):\n",
    "    unique_values = data[column_name].dropna().unique()  # Remove NaN values before sorting\n",
    "    sorted_values = sorted(unique_values, reverse=True)\n",
    "    print(f\"Unique values for '{column_name}' in descending order:\", sorted_values)\n",
    "\n",
    "show_unique_values(df, 'ceiling')"
   ]
  },
  {
   "cell_type": "markdown",
   "metadata": {},
   "source": [
    "### Outliers"
   ]
  },
  {
   "cell_type": "code",
   "execution_count": 13,
   "metadata": {},
   "outputs": [
    {
     "name": "stdout",
     "output_type": "stream",
     "text": [
      "Lower bound for outliers: 180.0\n",
      "Upper bound for outliers: 404.0\n"
     ]
    }
   ],
   "source": [
    "# Calculate IQR for \"ceiling\"\n",
    "Q1 = df['ceiling'].quantile(0.25)\n",
    "Q3 = df['ceiling'].quantile(0.95)\n",
    "IQR = Q3 - Q1\n",
    "\n",
    "# Define the lower and upper bounds for outliers\n",
    "lower_bound = Q1 - 1.5 * IQR\n",
    "upper_bound = Q3 + 1.5 * IQR\n",
    "\n",
    "print(f\"Lower bound for outliers: {lower_bound}\")\n",
    "print(f\"Upper bound for outliers: {upper_bound}\")"
   ]
  },
  {
   "cell_type": "code",
   "execution_count": 14,
   "metadata": {},
   "outputs": [
    {
     "name": "stdout",
     "output_type": "stream",
     "text": [
      "Number of outliers: 60\n",
      "Calculated median height: 264.0\n"
     ]
    }
   ],
   "source": [
    "# Identify outliers\n",
    "outliers = (df['ceiling'] < lower_bound) | (df['ceiling'] > upper_bound)\n",
    "print(f\"Number of outliers: {outliers.sum()}\")\n",
    "\n",
    "# Calculate and print the median value for verification\n",
    "median_height = df.loc[~outliers, 'ceiling'].median() #🚧 tilda for substraction\n",
    "print(f\"Calculated median height: {median_height}\")\n",
    "\n",
    "# Replace outliers and NaNs with the median value\n",
    "df.loc[outliers, 'ceiling'] = median_height #🚧 \n",
    "df['ceiling'].fillna(median_height, inplace=True)"
   ]
  },
  {
   "cell_type": "code",
   "execution_count": 15,
   "metadata": {},
   "outputs": [
    {
     "name": "stdout",
     "output_type": "stream",
     "text": [
      "count    23368.000000\n",
      "mean       269.332634\n",
      "std         17.199493\n",
      "min        200.000000\n",
      "25%        264.000000\n",
      "50%        264.000000\n",
      "75%        264.000000\n",
      "max        400.000000\n",
      "Name: ceiling, dtype: float64\n",
      "Number of NaN values in the 'ceiling' column after replacement: 0\n"
     ]
    }
   ],
   "source": [
    "\n",
    "print(df['ceiling'].describe())\n",
    "\n",
    "nan_count_after = df['ceiling'].isna().sum()\n",
    "print(f\"Number of NaN values in the 'ceiling' column after replacement: {nan_count_after}\")"
   ]
  },
  {
   "cell_type": "markdown",
   "metadata": {},
   "source": [
    "### Transform into ordinal"
   ]
  },
  {
   "cell_type": "code",
   "execution_count": 16,
   "metadata": {},
   "outputs": [
    {
     "name": "stdout",
     "output_type": "stream",
     "text": [
      "Percentage of uncomfortably low ceilings: 5.263608353303663%\n",
      "Percentage of spaciously high ceilings: 4.732968161588498%\n"
     ]
    }
   ],
   "source": [
    "# Define thresholds for categorizing ceiling heights (in centimeters) based on distribution and human comfort\n",
    "low_ceiling_threshold = 259  # Uncomfortably low ceilings\n",
    "high_ceiling_threshold = 300  # Spaciously high ceilings\n",
    "\n",
    "# Print the percentage of values below the low threshold and above the high threshold\n",
    "low_percentage = (df['ceiling'] < low_ceiling_threshold).mean() * 100\n",
    "high_percentage = (df['ceiling'] > high_ceiling_threshold).mean() * 100\n",
    "print(f\"Percentage of uncomfortably low ceilings: {low_percentage}%\")\n",
    "print(f\"Percentage of spaciously high ceilings: {high_percentage}%\")"
   ]
  },
  {
   "cell_type": "code",
   "execution_count": 17,
   "metadata": {},
   "outputs": [
    {
     "name": "stdout",
     "output_type": "stream",
     "text": [
      "Ceiling ranking distribution:\n",
      "ceiling_ranking\n",
      "2    21032\n",
      "1     1230\n",
      "3     1106\n",
      "Name: count, dtype: int64\n"
     ]
    }
   ],
   "source": [
    "# Categorize ceiling heights\n",
    "def categorize_ceiling(height):\n",
    "    if height < low_ceiling_threshold:\n",
    "        return 1  # Uncomfortably low\n",
    "    elif height <= high_ceiling_threshold:\n",
    "        return 2  # Medium\n",
    "    else:\n",
    "        return 3  # Spaciously high\n",
    "\n",
    "# Apply the categorization\n",
    "df['ceiling_ranking'] = df['ceiling'].apply(categorize_ceiling).astype(int)\n",
    "\n",
    "# Display the distribution of the new categories\n",
    "ceiling_category_distribution = df['ceiling_ranking'].value_counts()\n",
    "print(\"Ceiling ranking distribution:\")\n",
    "print(ceiling_category_distribution)"
   ]
  },
  {
   "cell_type": "markdown",
   "metadata": {},
   "source": [
    "## Column \"Санузел\"\n",
    "#### Values: need to make them numerical and categorical (\"total number\", \"only совмещенный\"), then fill NaN.\n"
   ]
  },
  {
   "cell_type": "code",
   "execution_count": 22,
   "metadata": {},
   "outputs": [
    {
     "name": "stdout",
     "output_type": "stream",
     "text": [
      "Санузел\n",
      "Совмещенный (1)                    10078\n",
      "Раздельный (1)                      7158\n",
      "NaN                                 2672\n",
      "Совмещенный (2)                     1437\n",
      "Совмещенный (1), Раздельный (1)      812\n",
      "Раздельный (2)                       534\n",
      "Совмещенный (3)                      241\n",
      "Совмещенный (2), Раздельный (1)      188\n",
      "Совмещенный (4)                       77\n",
      "Раздельный (3)                        52\n",
      "Совмещенный (1), Раздельный (2)       30\n",
      "Совмещенный (3), Раздельный (1)       27\n",
      "Совмещенный (2), Раздельный (2)       25\n",
      "Раздельный (4)                        15\n",
      "Совмещенный (3), Раздельный (3)        6\n",
      "Совмещенный (4), Раздельный (1)        6\n",
      "Совмещенный (4), Раздельный (2)        4\n",
      "Совмещенный (1), Раздельный (3)        2\n",
      "Совмещенный (2), Раздельный (3)        2\n",
      "Совмещенный (2), Раздельный (4)        1\n",
      "Совмещенный (3), Раздельный (2)        1\n",
      "Name: count, dtype: int64\n"
     ]
    }
   ],
   "source": [
    "freq_table = df['Санузел'].value_counts(dropna=False).sort_values(ascending=False)\n",
    "\n",
    "# Print the frequency table\n",
    "print(freq_table)"
   ]
  },
  {
   "cell_type": "code",
   "execution_count": 23,
   "metadata": {},
   "outputs": [],
   "source": [
    "# Fill NaN values with the mode\n",
    "mode_value = df['Санузел'].mode()[0]\n",
    "df['Санузел'].fillna(mode_value, inplace=True)"
   ]
  },
  {
   "cell_type": "code",
   "execution_count": 24,
   "metadata": {},
   "outputs": [
    {
     "name": "stdout",
     "output_type": "stream",
     "text": [
      "<bound method NDFrame.describe of 0                        Совмещенный (1)\n",
      "1        Совмещенный (2), Раздельный (1)\n",
      "2                        Совмещенный (3)\n",
      "3                        Совмещенный (3)\n",
      "4                        Совмещенный (2)\n",
      "                      ...               \n",
      "23363                    Совмещенный (1)\n",
      "23364                    Совмещенный (1)\n",
      "23365                    Совмещенный (1)\n",
      "23366    Совмещенный (1), Раздельный (1)\n",
      "23367                     Раздельный (1)\n",
      "Name: Санузел, Length: 23368, dtype: object>\n"
     ]
    }
   ],
   "source": [
    "print(df['Санузел'].describe)"
   ]
  },
  {
   "cell_type": "code",
   "execution_count": 30,
   "metadata": {},
   "outputs": [
    {
     "name": "stdout",
     "output_type": "stream",
     "text": [
      "Relative frequency of values in 'one_merged_bathroom_only':\n",
      "one_merged_bathroom_only\n",
      "1    54.561794\n",
      "0    45.438206\n",
      "Name: proportion, dtype: float64\n"
     ]
    }
   ],
   "source": [
    "# Create \"one_merged_bathroom_only\" column\n",
    "df['one_merged_bathroom_only'] = df['Санузел'].apply(lambda x: 1 if x == 'Совмещенный (1)' else 0)\n",
    "\n",
    "relative_frequency = df['one_merged_bathroom_only'].value_counts(normalize=True) * 100\n",
    "print(\"Relative frequency of values in 'one_merged_bathroom_only':\")\n",
    "print(relative_frequency)"
   ]
  },
  {
   "cell_type": "code",
   "execution_count": 31,
   "metadata": {},
   "outputs": [
    {
     "name": "stdout",
     "output_type": "stream",
     "text": [
      "                               Санузел  one_merged_bathroom_only  \\\n",
      "0                      Совмещенный (1)                         1   \n",
      "1      Совмещенный (2), Раздельный (1)                         0   \n",
      "2                      Совмещенный (3)                         0   \n",
      "3                      Совмещенный (3)                         0   \n",
      "4                      Совмещенный (2)                         0   \n",
      "...                                ...                       ...   \n",
      "23363                  Совмещенный (1)                         1   \n",
      "23364                  Совмещенный (1)                         1   \n",
      "23365                  Совмещенный (1)                         1   \n",
      "23366  Совмещенный (1), Раздельный (1)                         0   \n",
      "23367                   Раздельный (1)                         0   \n",
      "\n",
      "       many_bathrooms  \n",
      "0                   0  \n",
      "1                   1  \n",
      "2                   1  \n",
      "3                   1  \n",
      "4                   0  \n",
      "...               ...  \n",
      "23363               0  \n",
      "23364               0  \n",
      "23365               0  \n",
      "23366               0  \n",
      "23367               0  \n",
      "\n",
      "[23368 rows x 3 columns]\n"
     ]
    }
   ],
   "source": [
    "# Function to calculate the total number of bathrooms\n",
    "def calculate_total_bathrooms(value):\n",
    "    if pd.isna(value):\n",
    "        return 0\n",
    "    total = 0\n",
    "    parts = value.split(', ')\n",
    "    for part in parts:\n",
    "        number = int(part.split('(')[1].strip(')')) #🚧\n",
    "        total += number\n",
    "    return total\n",
    "\n",
    "# Create \"many_bathrooms\" column\n",
    "df['many_bathrooms'] = df['Санузел'].apply(lambda x: 1 if calculate_total_bathrooms(x) > 2 else 0)\n",
    "\n",
    "# Print the DataFrame to verify the changes\n",
    "print(df[['Санузел', 'one_merged_bathroom_only', 'many_bathrooms']])"
   ]
  },
  {
   "cell_type": "markdown",
   "metadata": {},
   "source": [
    "## Column \"Лифт\"\n",
    "#### Create columns: \"has_elevator\", \"has_cargo_elevator\"\n"
   ]
  },
  {
   "cell_type": "code",
   "execution_count": 18,
   "metadata": {},
   "outputs": [
    {
     "name": "stdout",
     "output_type": "stream",
     "text": [
      "                     Лифт  no_elevators  has_cargo_elevator\n",
      "0      Пасс (4), Груз (1)             0                   1\n",
      "1      Пасс (1), Груз (1)             0                   1\n",
      "2                Пасс (1)             0                   0\n",
      "3                Пасс (1)             0                   0\n",
      "4      Пасс (1), Груз (1)             0                   1\n",
      "...                   ...           ...                 ...\n",
      "23363  Пасс (1), Груз (1)             0                   1\n",
      "23364  Пасс (1), Груз (1)             0                   1\n",
      "23365                 NaN             1                   0\n",
      "23366            Пасс (3)             0                   0\n",
      "23367            Пасс (3)             0                   0\n",
      "\n",
      "[23368 rows x 3 columns]\n",
      "Relative frequency of 'no_elevators':\n",
      "no_elevators\n",
      "0    76.46354\n",
      "1    23.53646\n",
      "Name: proportion, dtype: float64\n",
      "Relative frequency of 'has_cargo_elevator':\n",
      "has_cargo_elevator\n",
      "0    71.597912\n",
      "1    28.402088\n",
      "Name: proportion, dtype: float64\n"
     ]
    }
   ],
   "source": [
    "# Step 1: Create the `no_elevators` column\n",
    "df['no_elevators'] = df['Лифт'].isna().astype(int)\n",
    "\n",
    "# Step 2: Create the `has_cargo_elevator` column\n",
    "df['has_cargo_elevator'] = df['Лифт'].apply(lambda x: 1 if isinstance(x, str) and 'Груз' in x else 0)\n",
    "\n",
    "# Print the DataFrame to verify the changes\n",
    "print(df[['Лифт', 'no_elevators', 'has_cargo_elevator']])\n",
    "\n",
    "# Print the relative frequency of values\n",
    "print(\"Relative frequency of 'no_elevators':\")\n",
    "print(df['no_elevators'].value_counts(normalize=True) * 100)\n",
    "\n",
    "print(\"Relative frequency of 'has_cargo_elevator':\")\n",
    "print(df['has_cargo_elevator'].value_counts(normalize=True) * 100)"
   ]
  },
  {
   "cell_type": "markdown",
   "metadata": {},
   "source": [
    "## Column \"Мусоропровод\"\n",
    "##### fill NaN with moda\n",
    "\n"
   ]
  },
  {
   "cell_type": "code",
   "execution_count": 19,
   "metadata": {},
   "outputs": [
    {
     "name": "stdout",
     "output_type": "stream",
     "text": [
      "Unique values for 'Мусоропровод' in descending order: ['Нет', 'Да']\n"
     ]
    }
   ],
   "source": [
    "def show_unique_values(data, column_name):\n",
    "    unique_values = data[column_name].dropna().unique()  # Remove NaN values before sorting\n",
    "    sorted_values = sorted(unique_values, reverse=True)\n",
    "    print(f\"Unique values for '{column_name}' in descending order:\", sorted_values)\n",
    "\n",
    "# for 'Мусоропровод'\n",
    "show_unique_values(df, 'Мусоропровод')"
   ]
  },
  {
   "cell_type": "code",
   "execution_count": 20,
   "metadata": {},
   "outputs": [],
   "source": [
    "# 🚧 does not work for some reason, timebox for investigation is over\n",
    "# #fillNa\n",
    "# mode_garbage = df['Мусоропровод'].mode()\n",
    "# print(mode_garbage)\n",
    "# df['Мусоропровод'].fillna(mode_garbage, inplace=True)\n",
    "\n",
    "# # df['garbage'] = df['Мусоропровод'].map({'Да': 1, 'Нет': 0})\n",
    "\n",
    "\n",
    "\n",
    "# # # Step 4: Ensure the column type is integer\n",
    "# # df['garbage'] = df['garbage'].astype(int)\n",
    "\n",
    "# # # # Step 5: Tests\n",
    "# # # relative_frequency = df['garbage'].value_counts(normalize=True) * 100\n",
    "# # # print(\"Relative frequency of values in 'garbage':\")\n",
    "# # # print(relative_frequency)\n",
    "# print(df['Мусоропровод'].describe())\n"
   ]
  },
  {
   "cell_type": "code",
   "execution_count": 32,
   "metadata": {},
   "outputs": [
    {
     "name": "stdout",
     "output_type": "stream",
     "text": [
      "Unnamed: 0                    int64\n",
      "ID  объявления                int64\n",
      "Количество комнат            object\n",
      "Тип                          object\n",
      "Метро                        object\n",
      "Адрес                        object\n",
      "Площадь, м2                  object\n",
      "Дом                          object\n",
      "Парковка                     object\n",
      "Цена                         object\n",
      "Телефоны                     object\n",
      "Описание                     object\n",
      "Ремонт                       object\n",
      "Площадь комнат, м2           object\n",
      "Балкон                       object\n",
      "Окна                         object\n",
      "Санузел                      object\n",
      "Можно с детьми/животными     object\n",
      "Дополнительно                object\n",
      "Название ЖК                  object\n",
      "Серия дома                   object\n",
      "Высота потолков, м          float64\n",
      "Лифт                         object\n",
      "Мусоропровод                 object\n",
      "Ссылка на объявление         object\n",
      "pets_okay                   float64\n",
      "kids_okay                   float64\n",
      "furniture_in_the_room       float64\n",
      "air_conditioner             float64\n",
      "dishwashing                 float64\n",
      "fridge                      float64\n",
      "internet                    float64\n",
      "only_street_view            float64\n",
      "ceiling                     float64\n",
      "ceiling_ranking               int64\n",
      "no_elevators                  int64\n",
      "has_cargo_elevator            int64\n",
      "one_merged_bathroom_only      int64\n",
      "many_bathrooms                int64\n",
      "dtype: object\n"
     ]
    }
   ],
   "source": [
    "print(df.dtypes)\n"
   ]
  },
  {
   "cell_type": "code",
   "execution_count": null,
   "metadata": {},
   "outputs": [],
   "source": []
  }
 ],
 "metadata": {
  "kernelspec": {
   "display_name": "base",
   "language": "python",
   "name": "python3"
  },
  "language_info": {
   "codemirror_mode": {
    "name": "ipython",
    "version": 3
   },
   "file_extension": ".py",
   "mimetype": "text/x-python",
   "name": "python",
   "nbconvert_exporter": "python",
   "pygments_lexer": "ipython3",
   "version": "3.11.7"
  }
 },
 "nbformat": 4,
 "nbformat_minor": 2
}
